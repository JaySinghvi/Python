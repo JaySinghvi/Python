{
 "cells": [
  {
   "cell_type": "code",
   "execution_count": null,
   "id": "35000eb9",
   "metadata": {},
   "outputs": [],
   "source": [
    "#arrays and list\n",
    "\n",
    "#diff. - array can't store diff datatypes but list can\n",
    "#sim.- both store ordered list of values\n",
    "\n",
    "#2 types of modules avaiable for array:\n",
    "#array (using this today)- \n",
    "#numpy- \n",
    "\n",
    "'''*instead of typing #include in c, we use import array as arr (declaration) in python\n",
    "*syntax: A = arr(module name).array(datatype (if it is int we type'i' and for float it is 'd'), list of values) '''"
   ]
  },
  {
   "cell_type": "code",
   "execution_count": 5,
   "id": "1ff91f72",
   "metadata": {},
   "outputs": [
    {
     "name": "stdout",
     "output_type": "stream",
     "text": [
      "1\n",
      "2\n",
      "3\n",
      "4\n"
     ]
    }
   ],
   "source": [
    "#create array and display elements\n",
    "import array as a\n",
    "l = [1,2,3,4]\n",
    "b = a.array('i',l)#print array with loop\n",
    "for i in range(len(b)):#we use len to traverse the whole array\n",
    "    print(b[i])\n"
   ]
  },
  {
   "cell_type": "code",
   "execution_count": null,
   "id": "3e29cec6",
   "metadata": {},
   "outputs": [],
   "source": [
    "#there are 2 functions to insert an element in array, insert(index,value) and append(value)=>adds ele to end so we just use value\n",
    "#to remove one ele at time and does not return the value, if ele doesn't exist it shows error: remove(value)=>(if there are multiple occurences it remove the first occurence)\n",
    "#to delete an ele and return the value, by default removes last ele, index can be supplied to remove specific value: pop(index)"
   ]
  },
  {
   "cell_type": "code",
   "execution_count": 21,
   "id": "acc25240",
   "metadata": {},
   "outputs": [
    {
     "name": "stdout",
     "output_type": "stream",
     "text": [
      "array before deletion\n",
      "1\n",
      "2\n",
      "3\n",
      "4\n",
      "5\n",
      "6\n",
      "7\n",
      "8\n",
      "9\n",
      "10\n",
      "array after deletion\n",
      "1\n",
      "2\n",
      "3\n",
      "4\n",
      "5\n",
      "7\n",
      "8\n",
      "9\n",
      "10\n"
     ]
    }
   ],
   "source": [
    "#to remove an ele\n",
    "import array as a\n",
    "l = [1,2,3,4,5,6,7,8,9,10]\n",
    "b = a.array('i',l)\n",
    "x = 6 #to remove 6\n",
    "print('array before deletion')\n",
    "for i in range(len(b)):\n",
    "    print(b[i])\n",
    "\n",
    "for i in range(len(b)):\n",
    "    if b[i] == x:\n",
    "        b.remove(x) #remove can only work in one iteration so after remove we need to break out of the loop\n",
    "        break  #use break to come out of the loop\n",
    "        \n",
    "print('array after deletion')\n",
    "for i in range(len(b)):\n",
    "    print(b[i]) \n",
    "  "
   ]
  },
  {
   "cell_type": "code",
   "execution_count": 6,
   "id": "0f80382b",
   "metadata": {},
   "outputs": [
    {
     "name": "stdout",
     "output_type": "stream",
     "text": [
      "enter ele: 1\n",
      "want to continue: y\n",
      "enter ele: 2\n",
      "want to continue: y\n",
      "enter ele: 3\n",
      "want to continue: y\n",
      "enter ele: 4\n",
      "want to continue: y\n",
      "enter ele: 5\n",
      "want to continue: n\n",
      "enter ele to delete: 1\n",
      "deleted element:  1\n",
      "want to continue: y\n",
      "enter ele to delete: 3\n",
      "deleted element:  3\n",
      "want to continue: y\n",
      "enter ele to delete: 5\n",
      "deleted element:  5\n",
      "want to continue: n\n",
      "Final array\n",
      "2\n",
      "4\n"
     ]
    }
   ],
   "source": [
    "'''create a user defined array. delete elements from the array as per the user choice. this program should be able to take \n",
    "indefinite search elements'''\n",
    "import array as a\n",
    "b = a.array('i',[])\n",
    "while True:#(user defined array) we use it because it is indefinite no. of times to search ele so no need to take array size\n",
    "    x = int(input('enter ele: '))\n",
    "    b.append(x)\n",
    "    line = input('want to continue: ')\n",
    "    if line[0] == 'n':\n",
    "        #continue is not needed as it is a infinite loop so it will take to the top of the code \n",
    "        break #as it is infinite loop so as soon as it reads break it will come out of the loop\n",
    "    #till here it is user defined array\n",
    "\n",
    "while True:\n",
    "    p = int(input('enter ele to delete: '))\n",
    "    for i in range(len(b)):\n",
    "        if p == b[i]:\n",
    "            print('deleted element: ', b.pop(i))#to print all the elements that are popped\n",
    "            break\n",
    "    line = input('want to continue: ')#again we ask the user to enter ele to delete as it is indefinite\n",
    "    if line[0] == 'n':\n",
    "        #continue is not needed as it is a infinite loop so it will take to the top of the code \n",
    "        break\n",
    "\n",
    "print('Final array')\n",
    "for i in range(len(b)):\n",
    "    print(b[i]) #to print all the elements remaining\n",
    "  \n",
    "\n",
    "    \n"
   ]
  },
  {
   "cell_type": "code",
   "execution_count": 2,
   "id": "cb76634c",
   "metadata": {},
   "outputs": [
    {
     "name": "stdout",
     "output_type": "stream",
     "text": [
      "Please, Enter the Lowest Range Value: 0\n",
      "Please, Enter the Upper Range Value: 5\n",
      "The Prime Numbers in the range are: \n",
      "2\n",
      "3\n",
      "5\n"
     ]
    }
   ],
   "source": [
    "lower_value = int(input (\"Please, Enter the Lowest Range Value: \"))  \n",
    "upper_value = int(input (\"Please, Enter the Upper Range Value: \"))  \n",
    "  \n",
    "print (\"The Prime Numbers in the range are: \")  \n",
    "for number in range (lower_value, upper_value + 1):  \n",
    "    if number > 1:  \n",
    "        for i in range (2, number):  \n",
    "            if (number % i) == 0:  \n",
    "                break  \n",
    "        else:  \n",
    "            print (number)  "
   ]
  },
  {
   "cell_type": "code",
   "execution_count": null,
   "id": "515bb56e",
   "metadata": {},
   "outputs": [],
   "source": []
  }
 ],
 "metadata": {
  "kernelspec": {
   "display_name": "Python 3 (ipykernel)",
   "language": "python",
   "name": "python3"
  },
  "language_info": {
   "codemirror_mode": {
    "name": "ipython",
    "version": 3
   },
   "file_extension": ".py",
   "mimetype": "text/x-python",
   "name": "python",
   "nbconvert_exporter": "python",
   "pygments_lexer": "ipython3",
   "version": "3.9.7"
  }
 },
 "nbformat": 4,
 "nbformat_minor": 5
}
