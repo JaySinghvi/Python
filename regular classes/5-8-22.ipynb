{
 "cells": [
  {
   "cell_type": "code",
   "execution_count": 1,
   "id": "90645006",
   "metadata": {},
   "outputs": [
    {
     "name": "stdout",
     "output_type": "stream",
     "text": [
      "[1, 2, 3, 4]\n"
     ]
    }
   ],
   "source": [
    "L = [1,2,3,4]\n",
    "print(L)#here this is the list as it is in square brackets and tupples are in round brackets\n",
    "    \n"
   ]
  },
  {
   "cell_type": "code",
   "execution_count": 2,
   "id": "ebf92665",
   "metadata": {},
   "outputs": [
    {
     "name": "stdout",
     "output_type": "stream",
     "text": [
      "1\n",
      "2\n",
      "3\n",
      "4\n"
     ]
    }
   ],
   "source": [
    "for i in [1,2,3,4]:\n",
    "    print(i)#here it traverses and prints the values"
   ]
  },
  {
   "cell_type": "code",
   "execution_count": 1,
   "id": "defdcad6",
   "metadata": {},
   "outputs": [
    {
     "name": "stdout",
     "output_type": "stream",
     "text": [
      "2\n",
      "2\n",
      "3\n",
      "4\n",
      "5\n"
     ]
    }
   ],
   "source": [
    "#using index to map the elements\n",
    "n = 5\n",
    "l = [2,2,3,4,5]#list\n",
    "for i in range(n):#range is a function which starts from 0 to n-1 and prints all the values and is only used when used to print index\n",
    "    print(l[i])\n"
   ]
  },
  {
   "cell_type": "code",
   "execution_count": 9,
   "id": "9a193919",
   "metadata": {},
   "outputs": [
    {
     "name": "stdout",
     "output_type": "stream",
     "text": [
      "3\n",
      "4\n",
      "5\n"
     ]
    }
   ],
   "source": [
    "#to skip numbers while traversing the list\n",
    "n = 5\n",
    "l = [1,2,3,4,5]#list\n",
    "for i in range(2,n,1):#this is a function which has (start index, end index, increment by a no.)\n",
    "    print(l[i])\n"
   ]
  },
  {
   "cell_type": "code",
   "execution_count": 17,
   "id": "5bf632ed",
   "metadata": {
    "scrolled": true
   },
   "outputs": [
    {
     "name": "stdout",
     "output_type": "stream",
     "text": [
      "1\n",
      "3\n",
      "5\n",
      "[1, 2, 3, 4, 5]\n"
     ]
    }
   ],
   "source": [
    "#populate list and print even index elements\n",
    "l = [1,2,3,4,5]\n",
    "for i in range(0,5,2):\n",
    "    #here we start from 0 index which has 1 and then we increment the index by 2 to point ot he next even index 2 which has 3\n",
    "    print(l[i])\n",
    "print(l)#here it just prints the value"
   ]
  },
  {
   "cell_type": "code",
   "execution_count": 14,
   "id": "ef2e4695",
   "metadata": {
    "scrolled": true
   },
   "outputs": [
    {
     "name": "stdout",
     "output_type": "stream",
     "text": [
      "enter no. of elements: 5\n",
      "enter no. in list: 1\n",
      "enter no. in list: 2\n",
      "enter no. in list: 3\n",
      "enter no. in list: 4\n",
      "enter no. in list: 5\n",
      "list =  [1, 2, 3, 4, 5]\n"
     ]
    }
   ],
   "source": [
    "#user defined list\n",
    "l =[]#empty list to populate\n",
    "n = int(input('enter no. of elements: '))#typecasting and taking size of list\n",
    "for i in range(n):#running the loop to take in n no.\n",
    "    x= int(input('enter no. in list: '))\n",
    "    l.append(x)#to append this to the list means populating the existing list\n",
    "print('list = ', l)#to print the list"
   ]
  },
  {
   "cell_type": "markdown",
   "id": "a4ca05ee",
   "metadata": {},
   "source": []
  },
  {
   "cell_type": "code",
   "execution_count": 2,
   "id": "83ea7d9c",
   "metadata": {
    "scrolled": true
   },
   "outputs": [
    {
     "name": "stdout",
     "output_type": "stream",
     "text": [
      "enter size3\n",
      "Enter elements1\n",
      "Enter elements2\n",
      "Enter elementse\n",
      "['1', '2', 'e']\n"
     ]
    }
   ],
   "source": [
    "#try adding different datatype in the list\n",
    "l = []\n",
    "n = int(input('enter size'))\n",
    "for i in range(n):\n",
    "    x = input('Enter elements')\n",
    "    l.append(x)\n",
    "print(l)"
   ]
  },
  {
   "cell_type": "code",
   "execution_count": 25,
   "id": "bddd7b54",
   "metadata": {},
   "outputs": [
    {
     "name": "stdout",
     "output_type": "stream",
     "text": [
      "3\n"
     ]
    }
   ],
   "source": [
    "#in python the datatype none is like void in c\n",
    "l = [5, 10, 15, 20, 3]#defining the list\n",
    "smallest = l[0]#telling that the no. at the 0th index is the smallest\n",
    "for i in range(1,len(l)):#len(l) is another method to tranverse through the entire length of list\n",
    "    if l[i] < smallest:#comparing all the elements with l[0] and if it is small then it will be the value of smallest \n",
    "         smallest = l[i]#after checking all the elements we print smallest\n",
    "   \n",
    "print(smallest)"
   ]
  },
  {
   "cell_type": "code",
   "execution_count": 3,
   "id": "40b3d434",
   "metadata": {},
   "outputs": [
    {
     "name": "stdout",
     "output_type": "stream",
     "text": [
      "-1\n"
     ]
    }
   ],
   "source": [
    "#another way of writing the above program, but here the -1 intereferes with the list and prints that as it is the smallest\n",
    "smallest = -1\n",
    "l = [5, 10, 15, 20, 3]\n",
    "for i in range(len(l)):\n",
    "    if l[i] < smallest:\n",
    "        smallest = i\n",
    "print(smallest)"
   ]
  },
  {
   "cell_type": "code",
   "execution_count": 3,
   "id": "dbd809e5",
   "metadata": {},
   "outputs": [
    {
     "name": "stdout",
     "output_type": "stream",
     "text": [
      "-1\n"
     ]
    }
   ],
   "source": [
    "#to solve the above issue we use none which does not has any value and is virtual number so it does not intereferes in the list\n",
    "smallest = None# this is used  when we assume the smallest/largest number and there are further smallest/largest numbers in the list\n",
    "for i in [10,2,3,4]:#this is the loop to traverse the list\n",
    "    if smallest is None:\n",
    "        #as we had initialised the smallest to none so we check if it is none then assign the first number to smallest\n",
    "        smallest = i\n",
    "    elif i < smallest:\n",
    "        smallest = i\n",
    "print(smallest)"
   ]
  },
  {
   "cell_type": "code",
   "execution_count": null,
   "id": "4af4502c",
   "metadata": {},
   "outputs": [],
   "source": []
  }
 ],
 "metadata": {
  "kernelspec": {
   "display_name": "Python 3 (ipykernel)",
   "language": "python",
   "name": "python3"
  },
  "language_info": {
   "codemirror_mode": {
    "name": "ipython",
    "version": 3
   },
   "file_extension": ".py",
   "mimetype": "text/x-python",
   "name": "python",
   "nbconvert_exporter": "python",
   "pygments_lexer": "ipython3",
   "version": "3.9.7"
  }
 },
 "nbformat": 4,
 "nbformat_minor": 5
}
