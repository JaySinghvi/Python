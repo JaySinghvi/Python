{
 "cells": [
  {
   "cell_type": "code",
   "execution_count": 10,
   "id": "b4d97575",
   "metadata": {},
   "outputs": [
    {
     "name": "stdout",
     "output_type": "stream",
     "text": [
      "Enter filename: abc.txt\n",
      "enter mode to open file: r\n",
      "['this', 'and', 'this', 'is', 'great', 'and', 'this', 'is', 'also', 'great']\n",
      "['hey', 'how', 'ar', 'eu', 'man', 'whatsjoiehfoiw']\n",
      "6\n"
     ]
    }
   ],
   "source": [
    "#to print contents of file we can use file.read() but it can't be processed\n",
    "#remember split, rstrip and strip \n",
    "\n",
    "#Q. open a file specified by the user and raise an exception if the mode of the file is other than read \n",
    "   #otherwise display the entire file and count the number of words in it\n",
    "#ans: \n",
    "try: \n",
    "    file_name = input(\"Enter filename: \")\n",
    "    mode = input(\"enter mode to open file: \")\n",
    "    if mode != 'r':\n",
    "        raise e\n",
    "    else:\n",
    "        file = open(file_name,mode)\n",
    "        for line in file:\n",
    "            x = line.strip().split(\" \")\n",
    "            print(x)\n",
    "    count = 0\n",
    "    for i in x:\n",
    "        count = count + 1\n",
    "    print(count)\n",
    "except Exception as e:\n",
    "    print(\"Invalid Mode\")\n",
    "    \n"
   ]
  },
  {
   "cell_type": "code",
   "execution_count": null,
   "id": "018c884d",
   "metadata": {},
   "outputs": [],
   "source": [
    "'''Steps to deal with file:\n",
    "1. open file with open(filename, mode). It returns file object\n",
    "2. iterate through the file using for loop. split() method breaks the words in file using delimiters eg: for line in filename\n",
    "   \n",
    "3. break each line into words using split(). Before suing split(), either use rstrip() or strip() to remove whitespaces in the line'''\n",
    "\n"
   ]
  },
  {
   "cell_type": "code",
   "execution_count": 1,
   "id": "30dfa308",
   "metadata": {},
   "outputs": [
    {
     "name": "stdout",
     "output_type": "stream",
     "text": [
      "['\\n \\t 1', '2', '3', '4', '5 \\n \\n \\t']\n",
      "['\\n \\t 1', '2', '3', '4', '5']\n",
      "['1', '2', '3', '4', '5']\n"
     ]
    }
   ],
   "source": [
    "#eg of rstrip and strip\n",
    "s = '\\n \\t 1,2,3,4,5 \\n \\n \\t'\n",
    "a = s.split(',')# here we define comma as delimiter so that split can be split words suing this delimiter\n",
    "b = s.rstrip().split(',')#rstrip is right end stripping which removes whitespace only from the right sides\n",
    "c = s.strip().split(',')#strip removes all the whitespace in the line\n",
    "print(a)\n",
    "print(b)\n",
    "print(c)"
   ]
  },
  {
   "cell_type": "code",
   "execution_count": 2,
   "id": "31d63603",
   "metadata": {},
   "outputs": [
    {
     "data": {
      "text/html": [
       "<div>\n",
       "<style scoped>\n",
       "    .dataframe tbody tr th:only-of-type {\n",
       "        vertical-align: middle;\n",
       "    }\n",
       "\n",
       "    .dataframe tbody tr th {\n",
       "        vertical-align: top;\n",
       "    }\n",
       "\n",
       "    .dataframe thead th {\n",
       "        text-align: right;\n",
       "    }\n",
       "</style>\n",
       "<table border=\"1\" class=\"dataframe\">\n",
       "  <thead>\n",
       "    <tr style=\"text-align: right;\">\n",
       "      <th></th>\n",
       "      <th>Omar</th>\n",
       "      <th>Ali</th>\n",
       "      <th>Osama</th>\n",
       "      <th>Mean</th>\n",
       "    </tr>\n",
       "  </thead>\n",
       "  <tbody>\n",
       "    <tr>\n",
       "      <th>Course1</th>\n",
       "      <td>10</td>\n",
       "      <td>1</td>\n",
       "      <td>0</td>\n",
       "      <td>3.666667</td>\n",
       "    </tr>\n",
       "    <tr>\n",
       "      <th>Course2</th>\n",
       "      <td>20</td>\n",
       "      <td>2</td>\n",
       "      <td>1</td>\n",
       "      <td>7.666667</td>\n",
       "    </tr>\n",
       "    <tr>\n",
       "      <th>Course3</th>\n",
       "      <td>30</td>\n",
       "      <td>3</td>\n",
       "      <td>2</td>\n",
       "      <td>11.666667</td>\n",
       "    </tr>\n",
       "  </tbody>\n",
       "</table>\n",
       "</div>"
      ],
      "text/plain": [
       "         Omar  Ali  Osama       Mean\n",
       "Course1    10    1      0   3.666667\n",
       "Course2    20    2      1   7.666667\n",
       "Course3    30    3      2  11.666667"
      ]
     },
     "execution_count": 2,
     "metadata": {},
     "output_type": "execute_result"
    }
   ],
   "source": [
    "#question on dataframe\n",
    "import pandas as pd\n",
    "data = {\"Omar\":[10,20,30], \"Ali\":[1,2,3], \"Osama\":[0,1,2]}\n",
    "df = pd.DataFrame(data, index=[\"Course1\", \"Course2\", \"Course3\"])\n",
    "df['Mean'] = (df['Ali'] + df['Omar'] + df['Osama'])/3\n",
    "df"
   ]
  },
  {
   "cell_type": "code",
   "execution_count": null,
   "id": "ee413267",
   "metadata": {},
   "outputs": [],
   "source": []
  }
 ],
 "metadata": {
  "kernelspec": {
   "display_name": "Python 3 (ipykernel)",
   "language": "python",
   "name": "python3"
  },
  "language_info": {
   "codemirror_mode": {
    "name": "ipython",
    "version": 3
   },
   "file_extension": ".py",
   "mimetype": "text/x-python",
   "name": "python",
   "nbconvert_exporter": "python",
   "pygments_lexer": "ipython3",
   "version": "3.9.7"
  }
 },
 "nbformat": 4,
 "nbformat_minor": 5
}
