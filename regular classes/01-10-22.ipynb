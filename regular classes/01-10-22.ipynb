{
 "cells": [
  {
   "cell_type": "code",
   "execution_count": null,
   "id": "ed393df0",
   "metadata": {},
   "outputs": [],
   "source": [
    "#syntax to open a file and read file contents:\n",
    "'''file = open(file directory)to open file\n",
    "for a in file: to read file\n",
    "         print(a)'''"
   ]
  },
  {
   "cell_type": "code",
   "execution_count": null,
   "id": "8bb156e2",
   "metadata": {},
   "outputs": [],
   "source": [
    "#in IA2 questions can ask to print number of repetiotion of specific letters from a file "
   ]
  },
  {
   "cell_type": "code",
   "execution_count": null,
   "id": "23d7a7af",
   "metadata": {},
   "outputs": [],
   "source": [
    "#dictionaries:\n",
    "'''1. starts with curly brackets and key and value is separated by colons\n",
    "2. It is immutable datatype with keys (string) and values but data can change\n",
    "3. can create empty object of dictionary using dict() method\n",
    "eg: marks = dict() creating dict() object\n",
    "marks['ICAS'] = 50 populations empty dict() object\n",
    "marks['Mani'] = 40 \n",
    "\n",
    "5. to update current value of existing key: marks['ICAS'] = 40\n",
    "6. to add new object to dictionary: marks['pal'] = 35\n",
    "7. values can be accessed using key'\n",
    "8. to fetch only key/value we have to use dict_name.items()\n",
    "9. to remove all entries but object remains: dict_name.clear()\n",
    "10. to delete objects/entire dictionary: del dict_name''"
   ]
  },
  {
   "cell_type": "code",
   "execution_count": 2,
   "id": "75026a13",
   "metadata": {},
   "outputs": [
    {
     "name": "stdout",
     "output_type": "stream",
     "text": [
      "{'ICAS': 50, 'Mani': 40, 'pal': 35}\n"
     ]
    }
   ],
   "source": [
    "marks = dict()\n",
    "marks['ICAS'] = 50\n",
    "marks['Mani'] = 40 \n",
    "marks['pal'] = 35\n",
    "print(marks)\n"
   ]
  },
  {
   "cell_type": "code",
   "execution_count": 3,
   "id": "77d9b400",
   "metadata": {},
   "outputs": [
    {
     "name": "stdout",
     "output_type": "stream",
     "text": [
      "ICAS\n",
      "Mani\n",
      "pal\n",
      "50\n",
      "40\n",
      "35\n"
     ]
    }
   ],
   "source": [
    "#to only print key values:\n",
    "for key, value in marks.items():\n",
    "    print(key)\n",
    "    #or\n",
    "for key,value in marks.items():\n",
    "    print(value)"
   ]
  },
  {
   "cell_type": "code",
   "execution_count": null,
   "id": "9c1c9b51",
   "metadata": {},
   "outputs": [],
   "source": [
    "#comparison  between list and dictionaries is imp"
   ]
  },
  {
   "cell_type": "code",
   "execution_count": 4,
   "id": "e85542b6",
   "metadata": {},
   "outputs": [
    {
     "name": "stdout",
     "output_type": "stream",
     "text": [
      "values are same\n",
      "values are different\n",
      "None\n"
     ]
    }
   ],
   "source": [
    "def cmp(marks, grade):\n",
    "    for key2, value2 in marks.items():\n",
    "        for key1, value1 in grade.items():\n",
    "            if key2 == key1:\n",
    "                if value2 == value1:\n",
    "                    print(\"values are same\")\n",
    "                     \n",
    "    for key2, value2 in marks.items():\n",
    "        for key1, value1 in grade.items():\n",
    "            if key2 == key1:\n",
    "                if value2 != value1:\n",
    "                    print(\"values are different\")      \n",
    "        \n",
    "grade = dict()\n",
    "grade['ICAS'] = 50\n",
    "grade['Man'] = 40\n",
    "grade['pal'] = 3\n",
    "print(cmp(marks,grade))"
   ]
  },
  {
   "cell_type": "code",
   "execution_count": 5,
   "id": "dec45011",
   "metadata": {},
   "outputs": [
    {
     "name": "stdout",
     "output_type": "stream",
     "text": [
      "ICAS ICAS\n",
      "Mani Man\n",
      "pal pal\n"
     ]
    }
   ],
   "source": [
    "#zip function can be used when want to iterate one object more than one time\n",
    "for k1,k2 in zip(marks,grade):\n",
    "    print (k1,k2)"
   ]
  },
  {
   "cell_type": "code",
   "execution_count": 9,
   "id": "d515505b",
   "metadata": {},
   "outputs": [
    {
     "name": "stdout",
     "output_type": "stream",
     "text": [
      "ICAS 50 ICAS 50\n",
      "Mani 40 Man 40\n",
      "pal 35 pal 3\n"
     ]
    }
   ],
   "source": [
    "for (k1,v1),(k2,v2) in zip(marks.items(),grade.items()):\n",
    "    print (k1,v1,k2,v2)"
   ]
  },
  {
   "cell_type": "code",
   "execution_count": 10,
   "id": "c2c653a0",
   "metadata": {},
   "outputs": [
    {
     "name": "stdout",
     "output_type": "stream",
     "text": [
      "((('ICAS', 50), ('ICAS', 50)), (('Mani', 40), ('Man', 40)), (('pal', 35), ('pal', 3)))\n"
     ]
    }
   ],
   "source": [
    "t = zip(marks.items(), grade.items())\n",
    "print(tuple(t))"
   ]
  },
  {
   "cell_type": "code",
   "execution_count": 11,
   "id": "280a92f9",
   "metadata": {},
   "outputs": [
    {
     "data": {
      "text/plain": [
       "[('ICAS', 50), ('Mani', 40), ('pal', 35)]"
      ]
     },
     "execution_count": 11,
     "metadata": {},
     "output_type": "execute_result"
    }
   ],
   "source": [
    "sorted(marks.items())"
   ]
  },
  {
   "cell_type": "code",
   "execution_count": 13,
   "id": "9228937d",
   "metadata": {},
   "outputs": [
    {
     "name": "stdout",
     "output_type": "stream",
     "text": [
      "((('ICAS', 50), ('ICAS', 50)), (('Mani', 40), ('Man', 40)), (('pal', 35), ('pal', 3)))\n"
     ]
    }
   ],
   "source": [
    "t = zip(sorted(marks.items()), sorted(grade.items()))\n",
    "print(tuple(t))"
   ]
  },
  {
   "cell_type": "code",
   "execution_count": null,
   "id": "6df18a08",
   "metadata": {},
   "outputs": [],
   "source": []
  }
 ],
 "metadata": {
  "kernelspec": {
   "display_name": "Python 3 (ipykernel)",
   "language": "python",
   "name": "python3"
  },
  "language_info": {
   "codemirror_mode": {
    "name": "ipython",
    "version": 3
   },
   "file_extension": ".py",
   "mimetype": "text/x-python",
   "name": "python",
   "nbconvert_exporter": "python",
   "pygments_lexer": "ipython3",
   "version": "3.9.7"
  }
 },
 "nbformat": 4,
 "nbformat_minor": 5
}
