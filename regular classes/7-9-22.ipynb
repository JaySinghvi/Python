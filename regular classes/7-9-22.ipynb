{
 "cells": [
  {
   "cell_type": "code",
   "execution_count": null,
   "id": "686b6f91",
   "metadata": {},
   "outputs": [],
   "source": [
    "#look to exercise and answers for IA 1--chp 1\n",
    "#creating dataframes"
   ]
  },
  {
   "cell_type": "code",
   "execution_count": null,
   "id": "2d09a5e4",
   "metadata": {},
   "outputs": [],
   "source": [
    "#dataframe: it is a 2D data structure like tables with rows and columns\n"
   ]
  },
  {
   "cell_type": "code",
   "execution_count": 20,
   "id": "50655577",
   "metadata": {},
   "outputs": [
    {
     "name": "stdout",
     "output_type": "stream",
     "text": [
      "   calories  duration\n",
      "0       100         5\n",
      "1       200         2\n",
      "2        50         3\n",
      "3      3000         6\n",
      "   calories  duration\n",
      "0       100         5\n",
      "1       200         2\n"
     ]
    }
   ],
   "source": [
    "#creation of dataframe\n",
    "import pandas as pd\n",
    "data = {\"calories\":[100,200,50,3000],\"duration\":[5,2,3,6]}\n",
    "df = pd.DataFrame(data) #constructor-- class where data is called so creates object of class\n",
    "print(df)\n",
    "print(df.loc[0:1])#loc to print specific rows"
   ]
  },
  {
   "cell_type": "code",
   "execution_count": null,
   "id": "6da611aa",
   "metadata": {},
   "outputs": [],
   "source": [
    "#to read .csv files\n",
    "#df = pd.read_csv(\"abc.csv\")\n",
    "#print(df)--> the problem here is that it only prints first and last 5 rows.\n",
    "#using print(df.to_string())--> displays entire table \n",
    "#print(pd.options.display.max_rows)--> to find total no. of rows in csv file\n",
    "'''pd.options.display.max_rows = 1000 --> to display only 1000 rows from csv file\n",
    "df = pd.read_csv(\"abc.csv\")\n",
    "print(df)'''\n"
   ]
  }
 ],
 "metadata": {
  "kernelspec": {
   "display_name": "Python 3 (ipykernel)",
   "language": "python",
   "name": "python3"
  },
  "language_info": {
   "codemirror_mode": {
    "name": "ipython",
    "version": 3
   },
   "file_extension": ".py",
   "mimetype": "text/x-python",
   "name": "python",
   "nbconvert_exporter": "python",
   "pygments_lexer": "ipython3",
   "version": "3.9.7"
  }
 },
 "nbformat": 4,
 "nbformat_minor": 5
}
