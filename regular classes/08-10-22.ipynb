{
 "cells": [
  {
   "cell_type": "code",
   "execution_count": null,
   "id": "095eee9c",
   "metadata": {},
   "outputs": [],
   "source": [
    "#tuples \n",
    "'''\n",
    "1. these are ordered datastructures so we can use indexing on them. It is also immutable.We cannot create empty tuple and append value later\n",
    "2. immutable\n",
    "3. ordered value so can use indexing \n",
    "4. created using tuple_name = ()\n",
    "5. can use forward, backward indexing\n",
    "6. can use sorting using sorted method\n",
    "7. can concatenate 2 tuples using '+' but can't assign it to same object\n",
    "8. can't delete tuple element as it is immutable but entire tuple/object can be deleted\n",
    "9. can be accessed using index\n",
    "10. main operation in tuple is membership which is eg: 10 in (10,20,30)\n",
    "11. constructor called 'tuple' is used to convert any object type to tuple. eg: tuple()"
   ]
  },
  {
   "cell_type": "code",
   "execution_count": 3,
   "id": "e2eadb79",
   "metadata": {},
   "outputs": [
    {
     "data": {
      "text/plain": [
       "<_io.TextIOWrapper name='abc.txt' mode='w' encoding='cp1252'>"
      ]
     },
     "execution_count": 3,
     "metadata": {},
     "output_type": "execute_result"
    }
   ],
   "source": [
    "#to open a file\n",
    "open(\"abc.txt\",'w')\n",
    "#even if file does not exist and we give write command the system creates the file on its own in the same directory"
   ]
  },
  {
   "cell_type": "code",
   "execution_count": null,
   "id": "17ce1c80",
   "metadata": {},
   "outputs": [],
   "source": [
    "#question types related to file chp:\n",
    "#can ask to open file in read mode and count the repetition of some letters\n",
    "#open the file in try block to catch any exception\n",
    "#how to traverse the file line by line using strip command (look examples in book)\n",
    "#by default it takes the read mode"
   ]
  },
  {
   "cell_type": "code",
   "execution_count": 11,
   "id": "b7cae977",
   "metadata": {},
   "outputs": [
    {
     "name": "stdout",
     "output_type": "stream",
     "text": [
      "3\n"
     ]
    }
   ],
   "source": [
    "#program to count the repetition of a word in the file\n",
    "count = 0\n",
    "f1 = open(\"abc.txt\")\n",
    "for i in f1:\n",
    "    for j in i.split():\n",
    "        if j == 'this':\n",
    "            count = count + 1\n",
    "print(count)"
   ]
  },
  {
   "cell_type": "code",
   "execution_count": 1,
   "id": "0a018be4",
   "metadata": {},
   "outputs": [
    {
     "name": "stdout",
     "output_type": "stream",
     "text": [
      "['this', 'and', 'this', 'is', 'great', 'and', 'this', 'is', 'also', 'great']\n",
      "['hey', 'how', 'ar', 'eu', 'man', 'whatsjoiehfoiw']\n",
      "3\n"
     ]
    }
   ],
   "source": [
    "#program to convert the text document into list object and then count the repetition of words\n",
    "count = 0\n",
    "list = []\n",
    "f2 = open(\"abc.txt\")\n",
    "for a in f2:\n",
    "    list = a.split()\n",
    "    print(list)\n",
    "    \n",
    "    for i in list:\n",
    "        if i == 'this':\n",
    "            count = count + 1\n",
    "print(count)"
   ]
  },
  {
   "cell_type": "code",
   "execution_count": null,
   "id": "3c2bae92",
   "metadata": {},
   "outputs": [],
   "source": []
  }
 ],
 "metadata": {
  "kernelspec": {
   "display_name": "Python 3 (ipykernel)",
   "language": "python",
   "name": "python3"
  },
  "language_info": {
   "codemirror_mode": {
    "name": "ipython",
    "version": 3
   },
   "file_extension": ".py",
   "mimetype": "text/x-python",
   "name": "python",
   "nbconvert_exporter": "python",
   "pygments_lexer": "ipython3",
   "version": "3.9.7"
  }
 },
 "nbformat": 4,
 "nbformat_minor": 5
}
