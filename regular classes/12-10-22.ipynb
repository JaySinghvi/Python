{
 "cells": [
  {
   "cell_type": "code",
   "execution_count": null,
   "id": "3717a33f",
   "metadata": {},
   "outputs": [],
   "source": [
    "#Q. in a file convert each alphabet into element of list. Also say to user these are the alphabets used to make contents of file so make a dict of that which will not make duplicate values\n",
    "  #Also make a set for non-duplicate data"
   ]
  },
  {
   "cell_type": "code",
   "execution_count": 1,
   "id": "b2e4d677",
   "metadata": {},
   "outputs": [
    {
     "name": "stdout",
     "output_type": "stream",
     "text": [
      "The letters of all words in the file:\n",
      "\n",
      "['h', 'e', 'y', 'h', 'o', 'w', 'a', 'r', 'e', 'u', 'm', 'a', 'n', 'w', 'h', 'a', 't', 's', 'j', 'o', 'i', 'e', 'h', 'f', 'o', 'i', 'w']\n",
      "\n",
      "\n",
      " The alphabets used in the file are:\n",
      "\n",
      "{'s', 't', 'f', 'j', 'a', 'e', 'w', 'u', 'i', 'h', 'y', 'o', 'n', 'm', 'r'}\n",
      "\n",
      "\n",
      " The number of times each alphabet is used is:\n",
      "\n",
      "{'h': 4, 'e': 3, 'y': 1, 'o': 3, 'w': 3, 'a': 3, 'r': 1, 'u': 1, 'm': 1, 'n': 1, 't': 1, 's': 1, 'j': 1, 'i': 2, 'f': 1}\n"
     ]
    }
   ],
   "source": [
    "#ans to question\n",
    "file=open(\"abc.txt\", \"r\")\n",
    "\n",
    "for line in file:\n",
    "    words=line.strip().split()\n",
    "    \n",
    "letters=[]\n",
    "\n",
    "for i in words:\n",
    "    wordletters=list(i)\n",
    "    letters.extend(wordletters)\n",
    "\n",
    "alphabet=set(letters)\n",
    "\n",
    "diction=dict()\n",
    "\n",
    "for j in letters:\n",
    "    diction[j]=letters.count(j)\n",
    "\n",
    "print(\"The letters of all words in the file:\\n\")\n",
    "print(letters)\n",
    "print(\"\\n\\n The alphabets used in the file are:\\n\")\n",
    "print(alphabet)\n",
    "print(\"\\n\\n The number of times each alphabet is used is:\\n\")\n",
    "print(diction)"
   ]
  },
  {
   "cell_type": "code",
   "execution_count": null,
   "id": "c4221d9e",
   "metadata": {},
   "outputs": [],
   "source": []
  },
  {
   "cell_type": "code",
   "execution_count": null,
   "id": "b244e759",
   "metadata": {},
   "outputs": [],
   "source": []
  }
 ],
 "metadata": {
  "kernelspec": {
   "display_name": "Python 3 (ipykernel)",
   "language": "python",
   "name": "python3"
  },
  "language_info": {
   "codemirror_mode": {
    "name": "ipython",
    "version": 3
   },
   "file_extension": ".py",
   "mimetype": "text/x-python",
   "name": "python",
   "nbconvert_exporter": "python",
   "pygments_lexer": "ipython3",
   "version": "3.9.7"
  }
 },
 "nbformat": 4,
 "nbformat_minor": 5
}
