{
 "cells": [
  {
   "cell_type": "code",
   "execution_count": 3,
   "id": "026b178c",
   "metadata": {},
   "outputs": [
    {
     "name": "stdout",
     "output_type": "stream",
     "text": [
      "enter a number5\n",
      "5 is odd number\n"
     ]
    }
   ],
   "source": [
    "x = input('enter a number')\n",
    "y = int(x) #typecasting as after input statement the result becomes string so convert it into int \n",
    "if(y % 2 == 0): #everytime use colons after if and else statement\n",
    "  print(y,'is even number')#instaead of using %d in c write the value of y like this\n",
    "else:\n",
    "  print(y, 'is odd number')"
   ]
  },
  {
   "cell_type": "code",
   "execution_count": 1,
   "id": "c92240f3",
   "metadata": {},
   "outputs": [
    {
     "name": "stdout",
     "output_type": "stream",
     "text": [
      "enter a no.50\n",
      "enter a no.50\n",
      "enter a no.40\n",
      "140\n"
     ]
    }
   ],
   "source": [
    "sum = 0\n",
    "while(True):\n",
    "    x = int(input('enter a no.'))\n",
    "    if(x/3 == 0):\n",
    "        continue\n",
    "    sum = sum + x\n",
    "    if(sum>100):\n",
    "        break\n",
    "print(sum)\n",
    "\n",
    "        "
   ]
  },
  {
   "cell_type": "code",
   "execution_count": 1,
   "id": "1f59169e",
   "metadata": {},
   "outputs": [
    {
     "name": "stdout",
     "output_type": "stream",
     "text": [
      ">j\n",
      "j\n",
      ">4\n",
      "4\n",
      ">3\n",
      "3\n",
      ">done\n"
     ]
    }
   ],
   "source": [
    "while True:\n",
    "    line = input(\">\")\n",
    "    if line[0] == '#':\n",
    "        continue\n",
    "    if line == 'done':\n",
    "        break\n",
    "    print(line)\n"
   ]
  },
  {
   "cell_type": "code",
   "execution_count": null,
   "id": "472bec6e",
   "metadata": {},
   "outputs": [],
   "source": []
  }
 ],
 "metadata": {
  "kernelspec": {
   "display_name": "Python 3 (ipykernel)",
   "language": "python",
   "name": "python3"
  },
  "language_info": {
   "codemirror_mode": {
    "name": "ipython",
    "version": 3
   },
   "file_extension": ".py",
   "mimetype": "text/x-python",
   "name": "python",
   "nbconvert_exporter": "python",
   "pygments_lexer": "ipython3",
   "version": "3.9.7"
  }
 },
 "nbformat": 4,
 "nbformat_minor": 5
}
