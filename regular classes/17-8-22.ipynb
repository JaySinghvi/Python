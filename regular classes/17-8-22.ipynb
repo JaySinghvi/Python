{
 "cells": [
  {
   "cell_type": "code",
   "execution_count": 3,
   "id": "3cd6496e",
   "metadata": {},
   "outputs": [
    {
     "name": "stdout",
     "output_type": "stream",
     "text": [
      "15\n"
     ]
    }
   ],
   "source": [
    "#def function is used to define a function and syntax is def function_name(parameters)"
   ]
  },
  {
   "cell_type": "code",
   "execution_count": 4,
   "id": "ef6bf64b",
   "metadata": {},
   "outputs": [
    {
     "name": "stdout",
     "output_type": "stream",
     "text": [
      "5\n"
     ]
    }
   ],
   "source": [
    "def add(x,y):#function to add two no.\n",
    "    print(x+y)\n",
    "add(2,3)"
   ]
  },
  {
   "cell_type": "code",
   "execution_count": 2,
   "id": "635d9c13",
   "metadata": {},
   "outputs": [
    {
     "name": "stdout",
     "output_type": "stream",
     "text": [
      "5\n"
     ]
    }
   ],
   "source": [
    "#to return the result to another function\n",
    "def add(x,y):#function to add two no.\n",
    "    z = x + y\n",
    "    return z\n",
    "a = add(2,3)\n",
    "print(a)#try with returning lists"
   ]
  },
  {
   "cell_type": "code",
   "execution_count": null,
   "id": "bbc0628b",
   "metadata": {},
   "outputs": [],
   "source": [
    "#classes and objects\n",
    "'''existing object is defined by class and is user defined data\n",
    "class: is combination of features/attributes and actions performed on the set of object of class type(blueprint to make objects)\n",
    "inheritance: using the objects of a predefined class in the scope of different class\n",
    "\n",
    "to create a object we say instantiate'''"
   ]
  },
  {
   "cell_type": "code",
   "execution_count": 12,
   "id": "63bc7bc3",
   "metadata": {},
   "outputs": [
    {
     "name": "stdout",
     "output_type": "stream",
     "text": [
      "1\n"
     ]
    }
   ],
   "source": [
    "class first_class:#defining the class\n",
    "    attribute = 1#defining features and functions\n",
    "    def fun(self):#self is necessary as in python it is mandatory to provide arguments so just use self as it is not a keyword\n",
    "        print(self.attribute)\n",
    "#without init we cannot define the obj but if we don't define it python will take it by default\n",
    "obj = first_class()#create a varible of class type and define paramenter inside it to tell which features to take from class\n",
    "obj2 = first_class()#for this also the value will be 1\n",
    "obj.fun()#we call the function and the dot operator binds the varible and called function\n",
    "#here we don't need any arguments as the dot operator passes the calling function to called function\n"
   ]
  },
  {
   "cell_type": "code",
   "execution_count": 3,
   "id": "89110efd",
   "metadata": {},
   "outputs": [
    {
     "name": "stdout",
     "output_type": "stream",
     "text": [
      "1 +i 2\n",
      "3 +i 4\n",
      "0 +i 0\n",
      "4 +i 6\n"
     ]
    }
   ],
   "source": [
    "#def __init__(arguments): it initializes the attributes and is an example of identifier with the first character as _\n",
    "#complex no.\n",
    "class Complex:\n",
    "    #def __init__(self):#function overloading\n",
    "      #  self.real = 0\n",
    "        #self.real = 0\n",
    "        \n",
    "    def __init__(self,x,y):#self should always be there and here we 'overwrite' the default init function\n",
    "        self.real = x\n",
    "        self.img = y\n",
    "        print(self.real,'+i', self.img)\n",
    "    \n",
    "    def add(self,c):#here we provide self and object as parameters and addition of 2 obj stores result in another obj\n",
    "        c3 = Complex(0,0)#here we can give also give c3=Complex() and above we can give x=0 and y=0\n",
    "        c3.real = self.real + c.real\n",
    "        c3.img = self.img + c.img\n",
    "        print(c3.real,'+i',c3.img)\n",
    "    \n",
    "c1 = Complex(1,2)\n",
    "c2 = Complex(3,4)\n",
    "\n",
    "c1.add(c2)#here we give obj as the parameter which is c2 as we want to add c1 and c2 \n",
    "\n",
    "#function overloading: when one class has 2 definitions with different arguments like above there are 2 init funtions\n",
    "#constructor overloading is not acceptable in python\n",
    "#python does not give error here because it onsiders the latest deifnition which has x,y has arguments \n",
    "#we can not do overloading explicitly but implicitly we can do x = 0 and y = 0 and this is what c3 will consider and while defining\n",
    "  #c3 we can give it like c3 = Complex()\n",
    "\n"
   ]
  },
  {
   "cell_type": "code",
   "execution_count": null,
   "id": "12f6b5c2",
   "metadata": {},
   "outputs": [],
   "source": []
  }
 ],
 "metadata": {
  "kernelspec": {
   "display_name": "Python 3 (ipykernel)",
   "language": "python",
   "name": "python3"
  },
  "language_info": {
   "codemirror_mode": {
    "name": "ipython",
    "version": 3
   },
   "file_extension": ".py",
   "mimetype": "text/x-python",
   "name": "python",
   "nbconvert_exporter": "python",
   "pygments_lexer": "ipython3",
   "version": "3.9.7"
  }
 },
 "nbformat": 4,
 "nbformat_minor": 5
}
