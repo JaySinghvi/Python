{
 "cells": [
  {
   "cell_type": "code",
   "execution_count": null,
   "id": "d369e338",
   "metadata": {},
   "outputs": [],
   "source": [
    "#possible question on basic features of python from tb\n",
    "\n",
    "#to write multiple line we can use '\\'\n",
    "#to write a string we can \"\"\"declaring string\"\"\"\n",
    "#multiple assigns \n",
    "#formatting string explore on own\n",
    "#date and time model not included \n",
    "#pass staement- to not execute any block and pass over it/define class with no specific def so instead of def we write pass\n",
    "#from chp1 we are done till try and except"
   ]
  },
  {
   "cell_type": "code",
   "execution_count": 1,
   "id": "42446cf9",
   "metadata": {},
   "outputs": [
    {
     "data": {
      "text/plain": [
       "'try:\\n     function to moniter\\n   except:\\n     to print something instead of giving run-time error\\n'"
      ]
     },
     "execution_count": 1,
     "metadata": {},
     "output_type": "execute_result"
    }
   ],
   "source": [
    "#Exception handling\n",
    "#syntax for try and except:\n",
    "'''try:\n",
    "     function to moniter\n",
    "   except:\n",
    "     to print something instead of giving run-time error\n",
    "'''"
   ]
  },
  {
   "cell_type": "code",
   "execution_count": 10,
   "id": "8392c0a5",
   "metadata": {},
   "outputs": [
    {
     "name": "stdout",
     "output_type": "stream",
     "text": [
      "Enter a number: 4\n",
      "Enter a number: 2\n",
      "result =  2.0\n",
      "In try\n",
      "this is a finally block and will execute always\n",
      "Except is ignored here\n"
     ]
    }
   ],
   "source": [
    "def div(a,b):\n",
    "    try:\n",
    "        c = a / b\n",
    "        print(\"result = \", c)\n",
    "        print(\"In try\")\n",
    "    except Exception as ex:#here Exception is a keyword which is a parent class and prints the error name\n",
    "        print(type(ex))#this is used to give the error name \n",
    "        print(\"In except\")\n",
    "    finally:\n",
    "        print(\"this is a finally block and will execute always\")\n",
    "\n",
    "x = int(input(\"Enter a number: \"))\n",
    "y = int(input(\"Enter a number: \"))\n",
    "div(x,y)\n",
    "print(\"Except is ignored here\")\n",
    "\n",
    "#the try block is completely excuted is there is no exception in between "
   ]
  },
  {
   "cell_type": "code",
   "execution_count": 9,
   "id": "578863f7",
   "metadata": {},
   "outputs": [],
   "source": [
    "#try.....finally or try......except....finally"
   ]
  },
  {
   "cell_type": "code",
   "execution_count": null,
   "id": "f4fdfb2e",
   "metadata": {},
   "outputs": [],
   "source": []
  }
 ],
 "metadata": {
  "kernelspec": {
   "display_name": "Python 3 (ipykernel)",
   "language": "python",
   "name": "python3"
  },
  "language_info": {
   "codemirror_mode": {
    "name": "ipython",
    "version": 3
   },
   "file_extension": ".py",
   "mimetype": "text/x-python",
   "name": "python",
   "nbconvert_exporter": "python",
   "pygments_lexer": "ipython3",
   "version": "3.9.7"
  }
 },
 "nbformat": 4,
 "nbformat_minor": 5
}
