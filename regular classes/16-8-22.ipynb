{
 "cells": [
  {
   "cell_type": "code",
   "execution_count": null,
   "id": "12f7d1bb",
   "metadata": {},
   "outputs": [],
   "source": [
    "#the coursera courses questions will come in the test\n",
    "\n",
    "#making arrays using numpy module "
   ]
  },
  {
   "cell_type": "code",
   "execution_count": 2,
   "id": "fd930349",
   "metadata": {},
   "outputs": [
    {
     "data": {
      "text/plain": [
       "numpy.ndarray"
      ]
     },
     "execution_count": 2,
     "metadata": {},
     "output_type": "execute_result"
    }
   ],
   "source": [
    "import numpy as np\n",
    "a = np.array([1,2,3])\n",
    "type(a)\n"
   ]
  },
  {
   "cell_type": "code",
   "execution_count": null,
   "id": "fd290e65",
   "metadata": {},
   "outputs": [],
   "source": [
    "'''0D array is a scalar and rest all is vector\n",
    "in 0D array we only give value=>a = np.array(20)\n",
    "in 1D array we give=> a = np.array([1,2,3])\n",
    "in 2D array we give=> a = np.array([1,2,3](1D),[4,5,6](1D))\n",
    "to only acces only ele 3 in 2D array=> a[0,2](this means 0th index of 2D array and 2nd index of 1st 1D array)'''"
   ]
  },
  {
   "cell_type": "code",
   "execution_count": 3,
   "id": "97cd394a",
   "metadata": {},
   "outputs": [
    {
     "name": "stdout",
     "output_type": "stream",
     "text": [
      "a =  3\n",
      "b =  6\n",
      "c =  8\n"
     ]
    }
   ],
   "source": [
    "import numpy as np\n",
    "a = np.array([1,2,3])#1D\n",
    "b = np.array([[1,2,3],[4,5,6]])#2D, each ele is 1D array\n",
    "c = np.array([[[1,2,3],[4,5,6]],[[7,8,9],[11,12,13]]])#3D, each ele is 2D array\n",
    "print('a = ',a[2])#this all is in terms of index \n",
    "print('b = ',b[1,2])\n",
    "print('c = ',c[1,0,1])\n"
   ]
  },
  {
   "cell_type": "code",
   "execution_count": 4,
   "id": "14522a15",
   "metadata": {},
   "outputs": [
    {
     "name": "stdout",
     "output_type": "stream",
     "text": [
      "3\n"
     ]
    }
   ],
   "source": [
    "print(c.ndim)#gives the dimension of c array which is 3 and for b it is 2"
   ]
  },
  {
   "cell_type": "code",
   "execution_count": null,
   "id": "bae94a57",
   "metadata": {},
   "outputs": [],
   "source": [
    "'''slicing of array used to take a spefic dataset from a wide rage of datasets => nameofarray[start:end:step], start means inclusion, end means excluded and step means step value\n",
    "eg: a = np.array[1,2,3,4,5,6,7]\n",
    "print(a[2:5]) #this means that we only print from 2nd index to 5th index. If not given start index it takes 0 and if not given \n",
    "end index it takes till the last ele'''"
   ]
  },
  {
   "cell_type": "code",
   "execution_count": 2,
   "id": "f9e64b9b",
   "metadata": {},
   "outputs": [
    {
     "name": "stdout",
     "output_type": "stream",
     "text": [
      "[3 4 5]\n",
      "[1 2 3 4 5 6 7]\n",
      "[1 2 3 4 5 6 7]\n",
      "[7]\n",
      "[6 7]\n",
      "[1 2 3]\n"
     ]
    }
   ],
   "source": [
    "import numpy as np\n",
    "a = np.array([1,2,3,4,5,6,7])\n",
    "print(a[2:5])#prints from 2nd index to 5th index(excluding it)\n",
    "print(a)#prints all the ele\n",
    "print(a[:])#prints all the ele\n",
    "print(a[-1:])#-ve means it starts from behind and -1 means 7\n",
    "print(a[-2:])#as we say -2 so it starts from 7 and goes till 6 and prints 6 and 7 instead of 7 and 6 as it keeps the order same \n",
    "print(a[-7:-4])#here always the start index is smaller than the end index so we go till -7 which is 4 and prints till -4 which is 6\n",
    "               #it will only print in the forward direction and not in backward direction."
   ]
  },
  {
   "cell_type": "code",
   "execution_count": null,
   "id": "d1967228",
   "metadata": {},
   "outputs": [],
   "source": [
    "#going to start from the book"
   ]
  }
 ],
 "metadata": {
  "kernelspec": {
   "display_name": "Python 3 (ipykernel)",
   "language": "python",
   "name": "python3"
  },
  "language_info": {
   "codemirror_mode": {
    "name": "ipython",
    "version": 3
   },
   "file_extension": ".py",
   "mimetype": "text/x-python",
   "name": "python",
   "nbconvert_exporter": "python",
   "pygments_lexer": "ipython3",
   "version": "3.9.7"
  }
 },
 "nbformat": 4,
 "nbformat_minor": 5
}
