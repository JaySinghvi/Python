{
 "cells": [
  {
   "cell_type": "code",
   "execution_count": null,
   "id": "20407e6b",
   "metadata": {},
   "outputs": [],
   "source": [
    "#series\n",
    "#1. it is a 1D labelled array and contains similar datatypes. This is different from library\n",
    "#syntax: pd.series(data(list/array/dict/value) ,index(int/char/str) ,datatype,copy)"
   ]
  },
  {
   "cell_type": "code",
   "execution_count": 1,
   "id": "9c49e40e",
   "metadata": {},
   "outputs": [
    {
     "name": "stdout",
     "output_type": "stream",
     "text": [
      "Series([], dtype: float64)\n"
     ]
    },
    {
     "name": "stderr",
     "output_type": "stream",
     "text": [
      "C:\\Users\\Jay\\AppData\\Local\\Temp/ipykernel_22468/1696343985.py:3: DeprecationWarning: The default dtype for empty Series will be 'object' instead of 'float64' in a future version. Specify a dtype explicitly to silence this warning.\n",
      "  s = pd.Series()\n"
     ]
    }
   ],
   "source": [
    "#to create a empty series \n",
    "import pandas as pd\n",
    "s = pd.Series()\n",
    "print(s)"
   ]
  },
  {
   "cell_type": "code",
   "execution_count": 3,
   "id": "4dc5e071",
   "metadata": {},
   "outputs": [
    {
     "name": "stdout",
     "output_type": "stream",
     "text": [
      "0     2\n",
      "1     4\n",
      "2     6\n",
      "3     8\n",
      "4    10\n",
      "dtype: Int64\n",
      "a     2\n",
      "b     4\n",
      "c     6\n",
      "d     8\n",
      "e    10\n",
      "dtype: Int64\n"
     ]
    }
   ],
   "source": [
    "#to create a series using array\n",
    "data = pd.array([2,4,6,8,10])#creating array\n",
    "s = pd.Series(data)#if no index is given it fixes the index by default and values are labelled which is why it is series\n",
    "print(s)\n",
    "\n",
    "s = pd.Series(data,index=['a','b','c','d','e'])#here index is given so it labels the data accordig to that\n",
    "print(s)"
   ]
  },
  {
   "cell_type": "code",
   "execution_count": 8,
   "id": "4e46f04f",
   "metadata": {},
   "outputs": [
    {
     "name": "stdout",
     "output_type": "stream",
     "text": [
      "icas       1\n",
      "manipal    2\n",
      "KMC        3\n",
      "dtype: int64\n"
     ]
    }
   ],
   "source": [
    "data = {'icas':1,'manipal':2,'KMC':3}#this is making dictionary into series\n",
    "s = pd.Series(data)\n",
    "print(s)"
   ]
  },
  {
   "cell_type": "code",
   "execution_count": 3,
   "id": "c1fe3638",
   "metadata": {},
   "outputs": [
    {
     "name": "stdout",
     "output_type": "stream",
     "text": [
      "6\n",
      "d     8\n",
      "e    10\n",
      "dtype: Int64\n"
     ]
    }
   ],
   "source": [
    "import pandas as pd\n",
    "data = pd.array([2,4,6,8,10])\n",
    "s = pd.Series(data,index=['a','b','c','d','e'])\n",
    "print(s[2])#accessing data using int index\n",
    "print(s[-2:])#this can come in exam so remeber this"
   ]
  },
  {
   "cell_type": "code",
   "execution_count": 11,
   "id": "5e286ed8",
   "metadata": {},
   "outputs": [
    {
     "name": "stdout",
     "output_type": "stream",
     "text": [
      "a   NaN\n",
      "b   NaN\n",
      "c   NaN\n",
      "d   NaN\n",
      "e   NaN\n",
      "dtype: float64\n"
     ]
    }
   ],
   "source": [
    "data = {'icas':1,'manipal':2,'KMC':3}#this is making dictionary into series\n",
    "s = pd.Series(data, index=['a','b','c','d','e'])#this gives NaN because in dictionary there are already value assigned to keys and there is not value for a,b,c,d,e\n",
    "print(s)"
   ]
  },
  {
   "cell_type": "code",
   "execution_count": 1,
   "id": "a24c7d13",
   "metadata": {},
   "outputs": [
    {
     "name": "stdout",
     "output_type": "stream",
     "text": [
      "Enter no. of terms:4\n",
      "0\n",
      "1\n",
      "1\n",
      "2\n"
     ]
    }
   ],
   "source": [
    "#fibonacci series****\n",
    "def fib(n):\n",
    "    if n==0:\n",
    "        return 0\n",
    "    elif n==1 or n==2:\n",
    "         return 1\n",
    "    else:\n",
    "        return fib(n-1)+fib(n-2)\n",
    "\n",
    "n = int(input(\"Enter no. of terms:\"))\n",
    "for i in range(n):\n",
    "    print(fib(i))"
   ]
  },
  {
   "cell_type": "code",
   "execution_count": 3,
   "id": "a953ca34",
   "metadata": {},
   "outputs": [
    {
     "name": "stdout",
     "output_type": "stream",
     "text": [
      "0    1\n",
      "1    2\n",
      "2    3\n",
      "3    4\n",
      "dtype: int64\n"
     ]
    }
   ],
   "source": [
    "import pandas as pd\n",
    "l=[1,2,3,4]\n",
    "\n",
    "s=pd.Series(l)\n",
    "print(s)"
   ]
  },
  {
   "cell_type": "code",
   "execution_count": null,
   "id": "c0aa6976",
   "metadata": {},
   "outputs": [],
   "source": []
  }
 ],
 "metadata": {
  "kernelspec": {
   "display_name": "Python 3 (ipykernel)",
   "language": "python",
   "name": "python3"
  },
  "language_info": {
   "codemirror_mode": {
    "name": "ipython",
    "version": 3
   },
   "file_extension": ".py",
   "mimetype": "text/x-python",
   "name": "python",
   "nbconvert_exporter": "python",
   "pygments_lexer": "ipython3",
   "version": "3.9.7"
  }
 },
 "nbformat": 4,
 "nbformat_minor": 5
}
